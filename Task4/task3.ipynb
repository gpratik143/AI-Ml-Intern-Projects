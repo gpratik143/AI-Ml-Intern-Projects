{
 "cells": [
  {
   "cell_type": "code",
   "execution_count": 1,
   "id": "6d98af8a",
   "metadata": {},
   "outputs": [],
   "source": [
    "import pandas as pd\n",
    "file_path='data.csv'\n",
    "df = pd.read_csv(file_path)\n"
   ]
  },
  {
   "cell_type": "code",
   "execution_count": 2,
   "id": "262418fc",
   "metadata": {},
   "outputs": [
    {
     "name": "stdout",
     "output_type": "stream",
     "text": [
      "<class 'pandas.core.frame.DataFrame'>\n",
      "RangeIndex: 569 entries, 0 to 568\n",
      "Data columns (total 33 columns):\n",
      " #   Column                   Non-Null Count  Dtype  \n",
      "---  ------                   --------------  -----  \n",
      " 0   id                       569 non-null    int64  \n",
      " 1   diagnosis                569 non-null    object \n",
      " 2   radius_mean              569 non-null    float64\n",
      " 3   texture_mean             569 non-null    float64\n",
      " 4   perimeter_mean           569 non-null    float64\n",
      " 5   area_mean                569 non-null    float64\n",
      " 6   smoothness_mean          569 non-null    float64\n",
      " 7   compactness_mean         569 non-null    float64\n",
      " 8   concavity_mean           569 non-null    float64\n",
      " 9   concave points_mean      569 non-null    float64\n",
      " 10  symmetry_mean            569 non-null    float64\n",
      " 11  fractal_dimension_mean   569 non-null    float64\n",
      " 12  radius_se                569 non-null    float64\n",
      " 13  texture_se               569 non-null    float64\n",
      " 14  perimeter_se             569 non-null    float64\n",
      " 15  area_se                  569 non-null    float64\n",
      " 16  smoothness_se            569 non-null    float64\n",
      " 17  compactness_se           569 non-null    float64\n",
      " 18  concavity_se             569 non-null    float64\n",
      " 19  concave points_se        569 non-null    float64\n",
      " 20  symmetry_se              569 non-null    float64\n",
      " 21  fractal_dimension_se     569 non-null    float64\n",
      " 22  radius_worst             569 non-null    float64\n",
      " 23  texture_worst            569 non-null    float64\n",
      " 24  perimeter_worst          569 non-null    float64\n",
      " 25  area_worst               569 non-null    float64\n",
      " 26  smoothness_worst         569 non-null    float64\n",
      " 27  compactness_worst        569 non-null    float64\n",
      " 28  concavity_worst          569 non-null    float64\n",
      " 29  concave points_worst     569 non-null    float64\n",
      " 30  symmetry_worst           569 non-null    float64\n",
      " 31  fractal_dimension_worst  569 non-null    float64\n",
      " 32  Unnamed: 32              0 non-null      float64\n",
      "dtypes: float64(31), int64(1), object(1)\n",
      "memory usage: 146.8+ KB\n"
     ]
    },
    {
     "data": {
      "text/plain": [
       "(None,\n",
       "          id diagnosis  radius_mean  texture_mean  perimeter_mean  area_mean  \\\n",
       " 0    842302         M        17.99         10.38          122.80     1001.0   \n",
       " 1    842517         M        20.57         17.77          132.90     1326.0   \n",
       " 2  84300903         M        19.69         21.25          130.00     1203.0   \n",
       " 3  84348301         M        11.42         20.38           77.58      386.1   \n",
       " 4  84358402         M        20.29         14.34          135.10     1297.0   \n",
       " \n",
       "    smoothness_mean  compactness_mean  concavity_mean  concave points_mean  \\\n",
       " 0          0.11840           0.27760          0.3001              0.14710   \n",
       " 1          0.08474           0.07864          0.0869              0.07017   \n",
       " 2          0.10960           0.15990          0.1974              0.12790   \n",
       " 3          0.14250           0.28390          0.2414              0.10520   \n",
       " 4          0.10030           0.13280          0.1980              0.10430   \n",
       " \n",
       "    ...  texture_worst  perimeter_worst  area_worst  smoothness_worst  \\\n",
       " 0  ...          17.33           184.60      2019.0            0.1622   \n",
       " 1  ...          23.41           158.80      1956.0            0.1238   \n",
       " 2  ...          25.53           152.50      1709.0            0.1444   \n",
       " 3  ...          26.50            98.87       567.7            0.2098   \n",
       " 4  ...          16.67           152.20      1575.0            0.1374   \n",
       " \n",
       "    compactness_worst  concavity_worst  concave points_worst  symmetry_worst  \\\n",
       " 0             0.6656           0.7119                0.2654          0.4601   \n",
       " 1             0.1866           0.2416                0.1860          0.2750   \n",
       " 2             0.4245           0.4504                0.2430          0.3613   \n",
       " 3             0.8663           0.6869                0.2575          0.6638   \n",
       " 4             0.2050           0.4000                0.1625          0.2364   \n",
       " \n",
       "    fractal_dimension_worst  Unnamed: 32  \n",
       " 0                  0.11890          NaN  \n",
       " 1                  0.08902          NaN  \n",
       " 2                  0.08758          NaN  \n",
       " 3                  0.17300          NaN  \n",
       " 4                  0.07678          NaN  \n",
       " \n",
       " [5 rows x 33 columns])"
      ]
     },
     "execution_count": 2,
     "metadata": {},
     "output_type": "execute_result"
    }
   ],
   "source": [
    "df.info(),df.head()"
   ]
  },
  {
   "cell_type": "code",
   "execution_count": 3,
   "id": "c775479d",
   "metadata": {},
   "outputs": [],
   "source": [
    "from sklearn.model_selection import train_test_split\n",
    "from sklearn.preprocessing import StandardScaler, LabelEncoder\n"
   ]
  },
  {
   "cell_type": "code",
   "execution_count": 4,
   "id": "27dc424a",
   "metadata": {},
   "outputs": [],
   "source": [
    "df_cleaned = df.drop(columns=['id', 'Unnamed: 32'])\n"
   ]
  },
  {
   "cell_type": "code",
   "execution_count": 5,
   "id": "34284f8c",
   "metadata": {},
   "outputs": [],
   "source": [
    "df_cleaned['diagnosis'] = LabelEncoder().fit_transform(df_cleaned['diagnosis'])\n"
   ]
  },
  {
   "cell_type": "code",
   "execution_count": 6,
   "id": "7e258b9e",
   "metadata": {},
   "outputs": [],
   "source": [
    "X = df_cleaned.drop(columns='diagnosis')\n",
    "y = df_cleaned['diagnosis']"
   ]
  },
  {
   "cell_type": "code",
   "execution_count": 7,
   "id": "cc7833e3",
   "metadata": {},
   "outputs": [],
   "source": [
    "X_train, X_test, y_train, y_test = train_test_split(X, y, test_size=0.2, random_state=42)\n"
   ]
  },
  {
   "cell_type": "code",
   "execution_count": 8,
   "id": "6048810f",
   "metadata": {},
   "outputs": [
    {
     "data": {
      "text/plain": [
       "(array([[-1.44075296, -0.43531947, -1.36208497, -1.1391179 ,  0.78057331,\n",
       "          0.71892128,  2.82313451, -0.11914956,  1.09266219,  2.45817261,\n",
       "         -0.26380039, -0.01605246, -0.47041357, -0.47476088,  0.83836493,\n",
       "          3.25102691,  8.43893667,  3.39198733,  2.62116574,  2.06120787,\n",
       "         -1.23286131, -0.47630949, -1.24792009, -0.97396758,  0.72289445,\n",
       "          1.18673232,  4.67282796,  0.9320124 ,  2.09724217,  1.88645014],\n",
       "        [ 1.97409619,  1.73302577,  2.09167167,  1.85197292,  1.319843  ,\n",
       "          3.42627493,  2.01311199,  2.66503199,  2.1270036 ,  1.55839569,\n",
       "          0.80531919, -0.81268678,  0.75195659,  0.87716951, -0.89605315,\n",
       "          1.18122247,  0.18362761,  0.60059598, -0.31771686,  0.52963649,\n",
       "          2.17331385,  1.3112795 ,  2.08161691,  2.1374055 ,  0.76192793,\n",
       "          3.26560084,  1.92862053,  2.6989469 ,  1.89116053,  2.49783848],\n",
       "        [-1.39998202, -1.24962228, -1.34520926, -1.10978518, -1.33264483,\n",
       "         -0.30735463, -0.36555756, -0.69650228,  1.93033305,  0.95437877,\n",
       "          0.02752055,  1.96305996, -0.12095781, -0.35077918,  0.57276579,\n",
       "          0.7394992 ,  0.32065553,  0.58946222,  2.61504052,  0.71892779,\n",
       "         -1.29528358, -1.04081128, -1.24522047, -0.99971493, -1.43869328,\n",
       "         -0.54856427, -0.64491059, -0.97023893,  0.59760192,  0.0578942 ],\n",
       "        [-0.98179678,  1.41622208, -0.98258746, -0.86694414,  0.05938999,\n",
       "         -0.59678772, -0.82020317, -0.84511471,  0.31326409,  0.07404147,\n",
       "         -0.53850473,  0.53647286, -0.65795   , -0.49659014,  0.0654747 ,\n",
       "         -0.82240418, -0.68556537, -0.89848456,  0.12329928, -0.43154667,\n",
       "         -0.8291973 ,  1.59353039, -0.87357215, -0.74294685,  0.79662437,\n",
       "         -0.7293916 , -0.77494969, -0.80948314,  0.79892783, -0.1344968 ],\n",
       "        [-1.11769991, -1.0102595 , -1.12500192, -0.96594206,  1.26951116,\n",
       "         -0.43900185, -0.98334145, -0.93059974,  3.39443604,  0.95021314,\n",
       "          0.40227808,  0.4403815 ,  0.21931447, -0.11553185,  0.17191085,\n",
       "         -0.78797021, -0.78350919, -0.58864808,  2.60401511,  0.76598123,\n",
       "         -1.08512861, -1.3346163 , -1.11713828, -0.89654919, -0.17487574,\n",
       "         -0.99507862, -1.20914641, -1.35458167,  1.03354385, -0.20573196]]),\n",
       " array([0, 1, 0, 0, 0]))"
      ]
     },
     "execution_count": 8,
     "metadata": {},
     "output_type": "execute_result"
    }
   ],
   "source": [
    "scaler = StandardScaler()\n",
    "X_train_scaled = scaler.fit_transform(X_train)\n",
    "X_test_scaled = scaler.transform(X_test)\n",
    "\n",
    "X_train_scaled[:5], y_train[:5].values"
   ]
  },
  {
   "cell_type": "code",
   "execution_count": 9,
   "id": "eb5f60e7",
   "metadata": {},
   "outputs": [],
   "source": [
    "from sklearn.linear_model import LogisticRegression\n",
    "from sklearn.metrics import confusion_matrix, precision_score, recall_score, roc_auc_score, roc_curve\n"
   ]
  },
  {
   "cell_type": "code",
   "execution_count": 10,
   "id": "36d73b0b",
   "metadata": {},
   "outputs": [
    {
     "data": {
      "text/html": [
       "<style>#sk-container-id-1 {color: black;}#sk-container-id-1 pre{padding: 0;}#sk-container-id-1 div.sk-toggleable {background-color: white;}#sk-container-id-1 label.sk-toggleable__label {cursor: pointer;display: block;width: 100%;margin-bottom: 0;padding: 0.3em;box-sizing: border-box;text-align: center;}#sk-container-id-1 label.sk-toggleable__label-arrow:before {content: \"▸\";float: left;margin-right: 0.25em;color: #696969;}#sk-container-id-1 label.sk-toggleable__label-arrow:hover:before {color: black;}#sk-container-id-1 div.sk-estimator:hover label.sk-toggleable__label-arrow:before {color: black;}#sk-container-id-1 div.sk-toggleable__content {max-height: 0;max-width: 0;overflow: hidden;text-align: left;background-color: #f0f8ff;}#sk-container-id-1 div.sk-toggleable__content pre {margin: 0.2em;color: black;border-radius: 0.25em;background-color: #f0f8ff;}#sk-container-id-1 input.sk-toggleable__control:checked~div.sk-toggleable__content {max-height: 200px;max-width: 100%;overflow: auto;}#sk-container-id-1 input.sk-toggleable__control:checked~label.sk-toggleable__label-arrow:before {content: \"▾\";}#sk-container-id-1 div.sk-estimator input.sk-toggleable__control:checked~label.sk-toggleable__label {background-color: #d4ebff;}#sk-container-id-1 div.sk-label input.sk-toggleable__control:checked~label.sk-toggleable__label {background-color: #d4ebff;}#sk-container-id-1 input.sk-hidden--visually {border: 0;clip: rect(1px 1px 1px 1px);clip: rect(1px, 1px, 1px, 1px);height: 1px;margin: -1px;overflow: hidden;padding: 0;position: absolute;width: 1px;}#sk-container-id-1 div.sk-estimator {font-family: monospace;background-color: #f0f8ff;border: 1px dotted black;border-radius: 0.25em;box-sizing: border-box;margin-bottom: 0.5em;}#sk-container-id-1 div.sk-estimator:hover {background-color: #d4ebff;}#sk-container-id-1 div.sk-parallel-item::after {content: \"\";width: 100%;border-bottom: 1px solid gray;flex-grow: 1;}#sk-container-id-1 div.sk-label:hover label.sk-toggleable__label {background-color: #d4ebff;}#sk-container-id-1 div.sk-serial::before {content: \"\";position: absolute;border-left: 1px solid gray;box-sizing: border-box;top: 0;bottom: 0;left: 50%;z-index: 0;}#sk-container-id-1 div.sk-serial {display: flex;flex-direction: column;align-items: center;background-color: white;padding-right: 0.2em;padding-left: 0.2em;position: relative;}#sk-container-id-1 div.sk-item {position: relative;z-index: 1;}#sk-container-id-1 div.sk-parallel {display: flex;align-items: stretch;justify-content: center;background-color: white;position: relative;}#sk-container-id-1 div.sk-item::before, #sk-container-id-1 div.sk-parallel-item::before {content: \"\";position: absolute;border-left: 1px solid gray;box-sizing: border-box;top: 0;bottom: 0;left: 50%;z-index: -1;}#sk-container-id-1 div.sk-parallel-item {display: flex;flex-direction: column;z-index: 1;position: relative;background-color: white;}#sk-container-id-1 div.sk-parallel-item:first-child::after {align-self: flex-end;width: 50%;}#sk-container-id-1 div.sk-parallel-item:last-child::after {align-self: flex-start;width: 50%;}#sk-container-id-1 div.sk-parallel-item:only-child::after {width: 0;}#sk-container-id-1 div.sk-dashed-wrapped {border: 1px dashed gray;margin: 0 0.4em 0.5em 0.4em;box-sizing: border-box;padding-bottom: 0.4em;background-color: white;}#sk-container-id-1 div.sk-label label {font-family: monospace;font-weight: bold;display: inline-block;line-height: 1.2em;}#sk-container-id-1 div.sk-label-container {text-align: center;}#sk-container-id-1 div.sk-container {/* jupyter's `normalize.less` sets `[hidden] { display: none; }` but bootstrap.min.css set `[hidden] { display: none !important; }` so we also need the `!important` here to be able to override the default hidden behavior on the sphinx rendered scikit-learn.org. See: https://github.com/scikit-learn/scikit-learn/issues/21755 */display: inline-block !important;position: relative;}#sk-container-id-1 div.sk-text-repr-fallback {display: none;}</style><div id=\"sk-container-id-1\" class=\"sk-top-container\"><div class=\"sk-text-repr-fallback\"><pre>LogisticRegression(random_state=42)</pre><b>In a Jupyter environment, please rerun this cell to show the HTML representation or trust the notebook. <br />On GitHub, the HTML representation is unable to render, please try loading this page with nbviewer.org.</b></div><div class=\"sk-container\" hidden><div class=\"sk-item\"><div class=\"sk-estimator sk-toggleable\"><input class=\"sk-toggleable__control sk-hidden--visually\" id=\"sk-estimator-id-1\" type=\"checkbox\" checked><label for=\"sk-estimator-id-1\" class=\"sk-toggleable__label sk-toggleable__label-arrow\">LogisticRegression</label><div class=\"sk-toggleable__content\"><pre>LogisticRegression(random_state=42)</pre></div></div></div></div></div>"
      ],
      "text/plain": [
       "LogisticRegression(random_state=42)"
      ]
     },
     "execution_count": 10,
     "metadata": {},
     "output_type": "execute_result"
    }
   ],
   "source": [
    "model = LogisticRegression(random_state=42)\n",
    "model.fit(X_train_scaled, y_train)\n"
   ]
  },
  {
   "cell_type": "code",
   "execution_count": 11,
   "id": "8744cb89",
   "metadata": {},
   "outputs": [],
   "source": [
    "y_probs = model.predict_proba(X_test_scaled)[:, 1]  # Probability of class 1\n",
    "y_pred = model.predict(X_test_scaled)"
   ]
  },
  {
   "cell_type": "code",
   "execution_count": 12,
   "id": "2afa0818",
   "metadata": {},
   "outputs": [
    {
     "data": {
      "text/plain": [
       "(array([[70,  1],\n",
       "        [ 2, 41]], dtype=int64),\n",
       " 0.9761904761904762,\n",
       " 0.9534883720930233,\n",
       " 0.99737962659679)"
      ]
     },
     "execution_count": 12,
     "metadata": {},
     "output_type": "execute_result"
    }
   ],
   "source": [
    "conf_matrix = confusion_matrix(y_test, y_pred)\n",
    "precision = precision_score(y_test, y_pred)\n",
    "recall = recall_score(y_test, y_pred)\n",
    "roc_auc = roc_auc_score(y_test, y_probs)\n",
    "\n",
    "conf_matrix, precision, recall, roc_auc"
   ]
  },
  {
   "cell_type": "code",
   "execution_count": 13,
   "id": "d2f4d2f3",
   "metadata": {},
   "outputs": [
    {
     "name": "stderr",
     "output_type": "stream",
     "text": [
      "c:\\ProgramData\\anaconda3\\Lib\\site-packages\\sklearn\\metrics\\_classification.py:1469: UndefinedMetricWarning: Precision is ill-defined and being set to 0.0 due to no predicted samples. Use `zero_division` parameter to control this behavior.\n",
      "  _warn_prf(average, modifier, msg_start, len(result))\n"
     ]
    },
    {
     "data": {
      "image/png": "[encoded data removed]",
      "text/plain": [
       "<Figure size 1000x500 with 1 Axes>"
      ]
     },
     "metadata": {},
     "output_type": "display_data"
    }
   ],
   "source": [
    "import numpy as np\n",
    "import matplotlib.pyplot as plt\n",
    "\n",
    "# Generate thresholds and corresponding precision-recall values\n",
    "thresholds = np.arange(0.0, 1.01, 0.01)\n",
    "precisions = []\n",
    "recalls = []\n",
    "\n",
    "for t in thresholds:\n",
    "    preds = (y_probs >= t).astype(int)\n",
    "    precisions.append(precision_score(y_test, preds))\n",
    "    recalls.append(recall_score(y_test, preds))\n",
    "\n",
    "# Plot precision-recall vs. threshold\n",
    "plt.figure(figsize=(10, 5))\n",
    "plt.plot(thresholds, precisions, label='Precision', color='blue')\n",
    "plt.plot(thresholds, recalls, label='Recall', color='green')\n",
    "plt.axvline(x=0.5, color='red', linestyle='--', label='Default Threshold (0.5)')\n",
    "plt.xlabel('Threshold')\n",
    "plt.ylabel('Score')\n",
    "plt.title('Precision and Recall vs Threshold')\n",
    "plt.legend()\n",
    "plt.grid(True)\n",
    "plt.tight_layout()\n",
    "plt.show()\n"
   ]
  }
 ],
 "metadata": {
  "kernelspec": {
   "display_name": "base",
   "language": "python",
   "name": "python3"
  },
  "language_info": {
   "codemirror_mode": {
    "name": "ipython",
    "version": 3
   },
   "file_extension": ".py",
   "mimetype": "text/x-python",
   "name": "python",
   "nbconvert_exporter": "python",
   "pygments_lexer": "ipython3",
   "version": "3.11.5"
  }
 },
 "nbformat": 4,
 "nbformat_minor": 5
}
